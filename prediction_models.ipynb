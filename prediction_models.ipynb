{
 "cells": [
  {
   "cell_type": "code",
   "execution_count": 12,
   "id": "4f0db770-df28-4230-ab28-9857957f11d2",
   "metadata": {},
   "outputs": [],
   "source": [
    "import pandas as pd\n",
    "import numpy as np\n",
    "from utility_functions import my_confusion_matrix, my_classification_scores, my_dataframe_split"
   ]
  },
  {
   "cell_type": "code",
   "execution_count": 9,
   "id": "3085a18d-38d1-4f7a-9a8a-1513b65db586",
   "metadata": {},
   "outputs": [],
   "source": [
    "# Load the dataset\n",
    "insurance_train_path = 'data/train.csv'\n",
    "insurance_train_df = pd.read_csv(insurance_train_path,index_col=None)\n",
    "insurance_train_df.columns= insurance_train_df.columns.str.lower()\n",
    "insurance_train_df.columns = insurance_train_df.columns.str.replace(' ','_')\n",
    "\n",
    "# Map 'Yes' to 1 and 'No' to 0\n",
    "insurance_train_df['vehicle_damage'] = insurance_train_df['vehicle_damage'].map({'Yes': 1, 'No': 0})"
   ]
  },
  {
   "cell_type": "code",
   "execution_count": 10,
   "id": "f6165fbd-ee06-4197-bfe8-eaf5427c03f3",
   "metadata": {},
   "outputs": [],
   "source": [
    "train_df, validation_df, test_df = my_dataframe_split(my_test_df,0.7,0.15,0.15)"
   ]
  },
  {
   "cell_type": "code",
   "execution_count": null,
   "id": "5f3a4f84-7ecb-495a-93b5-d1e1d73fb450",
   "metadata": {},
   "outputs": [],
   "source": []
  }
 ],
 "metadata": {
  "kernelspec": {
   "display_name": "Python 3 (ipykernel)",
   "language": "python",
   "name": "python3"
  },
  "language_info": {
   "codemirror_mode": {
    "name": "ipython",
    "version": 3
   },
   "file_extension": ".py",
   "mimetype": "text/x-python",
   "name": "python",
   "nbconvert_exporter": "python",
   "pygments_lexer": "ipython3",
   "version": "3.10.4"
  }
 },
 "nbformat": 4,
 "nbformat_minor": 5
}
