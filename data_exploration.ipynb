{
 "cells": [
  {
   "cell_type": "markdown",
   "id": "8da8d974-dab5-43c4-843a-8001709ebf85",
   "metadata": {},
   "source": [
    "# Data Exploration: Binary Classification of Insurance Cross Selling"
   ]
  },
  {
   "cell_type": "code",
   "execution_count": null,
   "id": "3fb08cb4-6efa-4260-a71e-98ddbc00bac1",
   "metadata": {},
   "outputs": [],
   "source": []
  }
 ],
 "metadata": {
  "kernelspec": {
   "display_name": "Python 3 (ipykernel)",
   "language": "python",
   "name": "python3"
  },
  "language_info": {
   "codemirror_mode": {
    "name": "ipython",
    "version": 3
   },
   "file_extension": ".py",
   "mimetype": "text/x-python",
   "name": "python",
   "nbconvert_exporter": "python",
   "pygments_lexer": "ipython3",
   "version": "3.10.4"
  }
 },
 "nbformat": 4,
 "nbformat_minor": 5
}
